{
 "cells": [
  {
   "cell_type": "markdown",
   "metadata": {},
   "source": [
    "# Environment & Config Check\n",
    "\n",
    "This notebook verifies that the Python environment, `.env` configuration, and NumPy are working correctly."
   ]
  },
  {
   "cell_type": "code",
   "execution_count": 1,
   "metadata": {},
   "outputs": [],
   "source": [
    "from dotenv import load_dotenv\n",
    "import os\n",
    "\n",
    "# Load environment variables\n",
    "load_dotenv()\n",
    "print(\"API_KEY present:\", \"API_KEY\" in os.environ)\n",
    "print(\"DATA_DIR:\", os.getenv(\"DATA_DIR\"))"
   ]
  },
  {
   "cell_type": "code",
   "execution_count": 2,
   "metadata": {},
   "outputs": [],
   "source": [
    "import numpy as np\n",
    "\n",
    "# Small array operation\n",
    "arr = np.array([1, 2, 3])\n",
    "print(\"Array:\", arr)\n",
    "print(\"Array squared:\", arr ** 2)"
   ]
  }
 ],
 "metadata": {
  "kernelspec": {
   "display_name": "Python 3",
   "language": "python",
   "name": "python3"
  },
  "language_info": {
   "name": "python",
   "version": "3.11"
  }
 },
 "nbformat": 4,
 "nbformat_minor": 5
}